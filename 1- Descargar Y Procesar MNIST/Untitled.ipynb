{
 "cells": [
  {
   "cell_type": "code",
   "execution_count": 3,
   "id": "d40e7890-f899-42be-949a-38ee9c4c5156",
   "metadata": {},
   "outputs": [
    {
     "name": "stdout",
     "output_type": "stream",
     "text": [
      "Path to dataset files: /home/juangomez/.cache/kagglehub/datasets/hojjatk/mnist-dataset/versions/1\n"
     ]
    }
   ],
   "source": [
    "import kagglehub\n",
    "\n",
    "# Download latest version\n",
    "path = kagglehub.dataset_download(\"hojjatk/mnist-dataset\")\n",
    "\n",
    "print(\"Path to dataset files:\", path)"
   ]
  },
  {
   "cell_type": "code",
   "execution_count": 5,
   "id": "3b6bb696-4812-425c-bb72-facd7e1c8656",
   "metadata": {},
   "outputs": [],
   "source": [
    "import os\n",
    "files = os.listdir(path)"
   ]
  },
  {
   "cell_type": "code",
   "execution_count": 6,
   "id": "058074bf-3110-4667-adc3-2da870127e4a",
   "metadata": {},
   "outputs": [
    {
     "name": "stdout",
     "output_type": "stream",
     "text": [
      "['t10k-labels-idx1-ubyte', 't10k-labels.idx1-ubyte', 't10k-images-idx3-ubyte', 'train-images.idx3-ubyte', 'train-labels-idx1-ubyte', 'train-labels.idx1-ubyte', 'train-images-idx3-ubyte', 't10k-images.idx3-ubyte']\n"
     ]
    }
   ],
   "source": [
    "print(files)"
   ]
  },
  {
   "cell_type": "code",
   "execution_count": 7,
   "id": "a5b1ae23-283f-43f2-ab85-d5f15c7427ae",
   "metadata": {},
   "outputs": [
    {
     "name": "stdout",
     "output_type": "stream",
     "text": [
      "Train images shape: (60000, 28, 28)\n",
      "Train labels shape: (60000,)\n",
      "Test images shape: (10000, 28, 28)\n",
      "Test labels shape: (10000,)\n"
     ]
    }
   ],
   "source": [
    "import numpy as np\n",
    "\n",
    "def load_idx(filepath):\n",
    "    with open(filepath, 'rb') as f:\n",
    "        data = np.frombuffer(f.read(), dtype=np.uint8)\n",
    "    return data\n",
    "\n",
    "# Cargar imágenes de entrenamiento\n",
    "train_images = load_idx(os.path.join(path, \"train-images.idx3-ubyte\"))[16:].reshape(-1, 28, 28)\n",
    "train_labels = load_idx(os.path.join(path, \"train-labels.idx1-ubyte\"))[8:]\n",
    "\n",
    "# Cargar imágenes de prueba\n",
    "test_images = load_idx(os.path.join(path, \"t10k-images.idx3-ubyte\"))[16:].reshape(-1, 28, 28)\n",
    "test_labels = load_idx(os.path.join(path, \"t10k-labels.idx1-ubyte\"))[8:]\n",
    "\n",
    "print(\"Train images shape:\", train_images.shape)\n",
    "print(\"Train labels shape:\", train_labels.shape)\n",
    "print(\"Test images shape:\", test_images.shape)\n",
    "print(\"Test labels shape:\", test_labels.shape)\n"
   ]
  },
  {
   "cell_type": "code",
   "execution_count": null,
   "id": "2f7f2c71-cf9f-42e3-b9a4-d99f9630352f",
   "metadata": {},
   "outputs": [],
   "source": []
  }
 ],
 "metadata": {
  "kernelspec": {
   "display_name": "Python 3 (ipykernel)",
   "language": "python",
   "name": "python3"
  },
  "language_info": {
   "codemirror_mode": {
    "name": "ipython",
    "version": 3
   },
   "file_extension": ".py",
   "mimetype": "text/x-python",
   "name": "python",
   "nbconvert_exporter": "python",
   "pygments_lexer": "ipython3",
   "version": "3.12.3"
  }
 },
 "nbformat": 4,
 "nbformat_minor": 5
}
