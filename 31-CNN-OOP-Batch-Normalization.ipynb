{
 "cells": [
  {
   "cell_type": "markdown",
   "metadata": {},
   "source": [
    "$ h_{out} = \\frac{1}{2}$"
   ]
  },
  {
   "cell_type": "markdown",
   "metadata": {},
   "source": [
    "# Convolucional Neuronal Network"
   ]
  },
  {
   "cell_type": "code",
   "execution_count": 19,
   "metadata": {},
   "outputs": [],
   "source": [
    "import numpy as np\n",
    "import torch\n",
    "import torch.nn as nn\n",
    "import torch.nn.functional as F\n",
    "\n",
    "# \n",
    "from torch.utils.data import DataLoader\n",
    "from torch.utils.data import sampler\n",
    "import torchvision.datasets as datasets\n",
    "import torchvision.transforms as T\n",
    "from torchvision import models\n",
    "import matplotlib.pyplot as plt"
   ]
  },
  {
   "cell_type": "markdown",
   "metadata": {},
   "source": [
    "## Upload database"
   ]
  },
  {
   "cell_type": "code",
   "execution_count": 20,
   "metadata": {},
   "outputs": [],
   "source": [
    "data_path = '/home/juangomez/Desktop/ML/Cursos/Pepe Cantoral/datasets'\n",
    "num_train = 50000\n",
    "num_val = 5000\n",
    "num_test = 5000\n",
    "batch_size = 64\n",
    "\n",
    "\n",
    "transform_cifar = T.Compose([\n",
    "    T.ToTensor(),\n",
    "    T.Normalize([0.491, 0.482, 0.447], [0.247, 0.243, 0.261])\n",
    "])\n",
    "\n",
    "# Training set\n",
    "cifar10_train = datasets.CIFAR10(\n",
    "    data_path,\n",
    "    train=True,\n",
    "    download=True,\n",
    "    transform=transform_cifar)\n",
    "train_loader = DataLoader(\n",
    "    cifar10_train,\n",
    "    batch_size=batch_size,\n",
    "    sampler=sampler.SubsetRandomSampler(range(num_train)))\n",
    "\n",
    "# Validation set\n",
    "cifar10_val = datasets.CIFAR10(\n",
    "    data_path,\n",
    "    train= False,\n",
    "    download=True,\n",
    "    transform=transform_cifar)\n",
    "val_loader = DataLoader(\n",
    "    cifar10_val,\n",
    "    batch_size=batch_size,\n",
    "    sampler=sampler.SubsetRandomSampler(range(num_val)))\n",
    "\n",
    "# Test set\n",
    "cifar10_test = datasets.CIFAR10(\n",
    "    data_path,\n",
    "    train=False,\n",
    "    download=True,\n",
    "    transform= transform_cifar)\n",
    "test_loader = DataLoader(\n",
    "    cifar10_test,\n",
    "    batch_size=batch_size,\n",
    "    sampler=sampler.SubsetRandomSampler(range(num_test, num_test + num_val))\n",
    ")\n"
   ]
  },
  {
   "cell_type": "code",
   "execution_count": 21,
   "metadata": {},
   "outputs": [
    {
     "name": "stdout",
     "output_type": "stream",
     "text": [
      "torch.Size([64, 3, 32, 32])\n"
     ]
    }
   ],
   "source": [
    "# this make a generator\n",
    "data_iter = iter(train_loader)\n",
    "# get the first batch\n",
    "images, labels = next(data_iter)\n",
    "print(images.shape)"
   ]
  },
  {
   "cell_type": "markdown",
   "metadata": {},
   "source": [
    "# Choose Device"
   ]
  },
  {
   "cell_type": "code",
   "execution_count": 22,
   "metadata": {},
   "outputs": [
    {
     "name": "stdout",
     "output_type": "stream",
     "text": [
      "cpu\n"
     ]
    }
   ],
   "source": [
    "if torch.cuda.is_available():\n",
    "    device = torch.device(\"cuda\")\n",
    "else:\n",
    "    device = torch.device(\"cpu\")\n",
    "print(device)"
   ]
  },
  {
   "cell_type": "markdown",
   "metadata": {},
   "source": [
    "## Show images"
   ]
  },
  {
   "cell_type": "code",
   "execution_count": 23,
   "metadata": {},
   "outputs": [
    {
     "name": "stdout",
     "output_type": "stream",
     "text": [
      "Show the image 0 of the batch 0. Class: \n"
     ]
    },
    {
     "data": {
      "image/png": "[encoded data removed]",
      "text/plain": [
       "<Figure size 640x480 with 1 Axes>"
      ]
     },
     "metadata": {},
     "output_type": "display_data"
    }
   ],
   "source": [
    "classes = ['Plane', 'Car', 'Bird', 'Cat', 'Deer', 'Dog', 'Frog', 'Horse', 'Ship', 'Truck']\n",
    "\n",
    "def plot_figure(image):\n",
    "    plt.imshow(image.permute(1, 2, 0))\n",
    "    plt.axis('off')\n",
    "    plt.show()\n",
    "\n",
    "idx= np.random.randint(len(test_loader))\n",
    "print(f'Show the image 0 of the batch {idx}. Class: ')\n",
    "image = test_loader.dataset[idx][0]\n",
    "image = (image- image.min())/(image.max()-image.min())\n",
    "plot_figure(image)"
   ]
  },
  {
   "cell_type": "markdown",
   "metadata": {},
   "source": [
    "# Accuracy\n"
   ]
  },
  {
   "cell_type": "code",
   "execution_count": 24,
   "metadata": {},
   "outputs": [],
   "source": [
    "def accuracy(model, loader):\n",
    "    num_correct = 0\n",
    "    num_total = 0\n",
    "    model.eval()\n",
    "    model.to(device)\n",
    "    with torch.no_grad():\n",
    "        for xi, yi in loader:\n",
    "            xi = xi.to(device)\n",
    "            yi = yi.to(device)\n",
    "            scores = model(xi)\n",
    "            # Compute the max in each row for each image of the batch\n",
    "            _, preds = scores.max(1)\n",
    "            num_correct += (preds == yi).sum()\n",
    "            num_total += len(yi)\n",
    "        return float(num_correct) / num_total"
   ]
  },
  {
   "cell_type": "markdown",
   "metadata": {},
   "source": [
    "# Training Loop"
   ]
  },
  {
   "cell_type": "code",
   "execution_count": 25,
   "metadata": {},
   "outputs": [],
   "source": [
    "def train(model, optimizer, epochs=100):\n",
    "    model = model.to(device = device)\n",
    "    for epoch in range(epochs):\n",
    "        model.train()\n",
    "        for (xi, yi) in train_loader:\n",
    "            xi = xi.to(device = device, dtype=torch.float32)\n",
    "            yi = yi.to(device = device, dtype=torch.long)\n",
    "            scores = model(xi)\n",
    "\n",
    "            cost = F.cross_entropy(input=scores, target=yi.squeeze())\n",
    "\n",
    "            optimizer.zero_grad()\n",
    "            cost.backward()\n",
    "            optimizer.step()\n",
    "        acc = accuracy(model, val_loader)\n",
    "        if epoch%1 == 0:\n",
    "            print(f'Epoch {epoch}, Cost: {cost.item()}, accuracy: {acc}')\n"
   ]
  },
  {
   "cell_type": "markdown",
   "metadata": {},
   "source": [
    "# Secuential linear"
   ]
  },
  {
   "cell_type": "code",
   "execution_count": 26,
   "metadata": {},
   "outputs": [
    {
     "name": "stdout",
     "output_type": "stream",
     "text": [
      "Epoch 0, Cost: 1.438110113143921, accuracy: 0.4424\n",
      "Epoch 1, Cost: 1.1234761476516724, accuracy: 0.4846\n",
      "Epoch 2, Cost: 1.485788106918335, accuracy: 0.5054\n",
      "Epoch 3, Cost: 1.3838521242141724, accuracy: 0.5028\n",
      "Epoch 4, Cost: 1.1389840841293335, accuracy: 0.5186\n",
      "Epoch 5, Cost: 0.9106072783470154, accuracy: 0.5232\n",
      "Epoch 6, Cost: 0.6873882412910461, accuracy: 0.5266\n",
      "Epoch 7, Cost: 1.3991081714630127, accuracy: 0.5322\n",
      "Epoch 8, Cost: 1.2146023511886597, accuracy: 0.522\n",
      "Epoch 9, Cost: 1.295867681503296, accuracy: 0.518\n"
     ]
    }
   ],
   "source": [
    "hidden1 = 256\n",
    "hidden2 = 256\n",
    "lr = 1e-3\n",
    "epochs = 10\n",
    "model = nn.Sequential(\n",
    "    nn.Flatten(),\n",
    "    nn.Linear(in_features = 3*32*32, out_features=hidden1), nn.ReLU(),\n",
    "    nn.Linear(in_features = hidden1, out_features=hidden2), nn.ReLU(),\n",
    "    nn.Linear(in_features = hidden2, out_features=10), nn.ReLU()\n",
    ")\n",
    "\n",
    "optimizer = torch.optim.Adam(model.parameters(), lr=lr, betas= (0.9, 0.999))\n",
    "train(model, optimizer, epochs=epochs)"
   ]
  },
  {
   "cell_type": "markdown",
   "metadata": {},
   "source": [
    "# Sequetial CNN"
   ]
  },
  {
   "cell_type": "code",
   "execution_count": 27,
   "metadata": {},
   "outputs": [
    {
     "name": "stdout",
     "output_type": "stream",
     "text": [
      "Epoch 0, Cost: 0.9675833582878113, accuracy: 0.6236\n",
      "Epoch 1, Cost: 1.0232064723968506, accuracy: 0.6362\n",
      "Epoch 2, Cost: 0.8187881708145142, accuracy: 0.6734\n",
      "Epoch 3, Cost: 1.1195194721221924, accuracy: 0.673\n",
      "Epoch 4, Cost: 0.7572863101959229, accuracy: 0.6772\n",
      "Epoch 5, Cost: 0.5643727779388428, accuracy: 0.6778\n",
      "Epoch 6, Cost: 0.6526426672935486, accuracy: 0.6714\n",
      "Epoch 7, Cost: 0.9975497126579285, accuracy: 0.6636\n",
      "Epoch 8, Cost: 0.4249037802219391, accuracy: 0.6628\n",
      "Epoch 9, Cost: 0.33954930305480957, accuracy: 0.6562\n"
     ]
    }
   ],
   "source": [
    "channel1 = 16\n",
    "channel2 = 32\n",
    "epochs = 10\n",
    "lr = 1e-3\n",
    "\n",
    "modelCNN1 = nn.Sequential(\n",
    "    nn.Conv2d(in_channels=3, out_channels=channel1, kernel_size=3, stride=1, padding=1),\n",
    "    nn.ReLU(),\n",
    "    nn.Conv2d(in_channels=channel1, out_channels=channel2, kernel_size=3, stride=1, padding=1),\n",
    "    nn.ReLU(),\n",
    "    nn.MaxPool2d(kernel_size=2, stride=2),\n",
    "    nn.Flatten(),\n",
    "    nn.Linear(in_features=16*16*channel2, out_features=10)\n",
    ")\n",
    "\n",
    "optimizer = torch.optim.Adam(modelCNN1.parameters(), lr=lr, betas= (0.9, 0.999))\n",
    "train(modelCNN1, optimizer, epochs=epochs)"
   ]
  },
  {
   "cell_type": "code",
   "execution_count": 28,
   "metadata": {},
   "outputs": [
    {
     "name": "stdout",
     "output_type": "stream",
     "text": [
      "Accuracy test: 0.6538\n"
     ]
    }
   ],
   "source": [
    "acc = accuracy(modelCNN1, test_loader)\n",
    "print(f'Accuracy test: {acc}')"
   ]
  },
  {
   "cell_type": "markdown",
   "metadata": {},
   "source": [
    "# OOP"
   ]
  },
  {
   "cell_type": "code",
   "execution_count": 29,
   "metadata": {},
   "outputs": [],
   "source": [
    "class CNN_class1(nn.Module):\n",
    "    def __init__(self, in_channels, channel1, channel2):\n",
    "        super(CNN_class1, self).__init__()\n",
    "        self.conv1 = nn.Conv2d(in_channels=in_channels, out_channels=channel1, kernel_size=3, stride=1, padding=1)\n",
    "        self.conv2 = nn.Conv2d(in_channels=channel1, out_channels=channel2, kernel_size=3, stride=1, padding=1)\n",
    "        self.pool = nn.MaxPool2d(kernel_size=2, stride=2)\n",
    "        self.flatten = nn.Flatten()\n",
    "        self.fc = nn.Linear(in_features=16*16*channel2, out_features=10)\n",
    "        \n",
    "    \n",
    "    def forward(self, x):\n",
    "        x = self.conv1(x)\n",
    "        x = F.relu(x)\n",
    "        x = self.conv2(x)\n",
    "        x = F.relu(x)\n",
    "        x = self.pool(x)\n",
    "        x = self.flatten(x)\n",
    "        x = self.fc(x)\n",
    "        return x\n"
   ]
  },
  {
   "cell_type": "code",
   "execution_count": 30,
   "metadata": {},
   "outputs": [
    {
     "name": "stdout",
     "output_type": "stream",
     "text": [
      "Epoch 0, Cost: 0.6411479711532593, accuracy: 0.636\n",
      "Epoch 1, Cost: 0.886730968952179, accuracy: 0.6596\n",
      "Epoch 2, Cost: 1.0214401483535767, accuracy: 0.6778\n",
      "Epoch 3, Cost: 1.1733015775680542, accuracy: 0.6832\n",
      "Epoch 4, Cost: 0.7102988362312317, accuracy: 0.6844\n",
      "Epoch 5, Cost: 0.6249756813049316, accuracy: 0.6774\n",
      "Epoch 6, Cost: 0.29727068543434143, accuracy: 0.683\n",
      "Epoch 7, Cost: 0.706306517124176, accuracy: 0.6658\n",
      "Epoch 8, Cost: 0.5570478439331055, accuracy: 0.6604\n",
      "Epoch 9, Cost: 0.6709380745887756, accuracy: 0.6688\n"
     ]
    }
   ],
   "source": [
    "channel1 = 16\n",
    "channel2 = 32\n",
    "epochs = 10\n",
    "lr = 1e-3\n",
    "\n",
    "modelCNN2 = CNN_class1(in_channels=3, channel1=channel1, channel2=channel2)\n",
    "optimizer = torch.optim.Adam(modelCNN2.parameters(), lr=lr, betas= (0.9, 0.999))\n",
    "train(modelCNN2, optimizer, epochs=epochs)"
   ]
  },
  {
   "cell_type": "code",
   "execution_count": 31,
   "metadata": {},
   "outputs": [
    {
     "name": "stdout",
     "output_type": "stream",
     "text": [
      "Accuracy test: 0.6564\n"
     ]
    }
   ],
   "source": [
    "acc = accuracy(modelCNN2, test_loader)\n",
    "print(f'Accuracy test: {acc}')"
   ]
  },
  {
   "cell_type": "markdown",
   "metadata": {},
   "source": [
    "## A little more elegant"
   ]
  },
  {
   "cell_type": "code",
   "execution_count": 32,
   "metadata": {},
   "outputs": [],
   "source": [
    "conv_k_3 = lambda channel1, channel2: nn.Conv2d(in_channels=channel1, out_channels=channel2, kernel_size=3, stride=1, padding=1)\n",
    "class CNN_class1(nn.Module):\n",
    "    def __init__(self, in_channels, channel1, channel2):\n",
    "        super(CNN_class1, self).__init__()\n",
    "        self.conv1 = conv_k_3(in_channels=in_channels, out_channels=channel1)\n",
    "        self.conv2 = conv_k_3(in_channels=channel1, out_channels=channel2)\n",
    "        self.pool = nn.MaxPool2d(kernel_size=2, stride=2)\n",
    "        self.flatten = nn.Flatten()\n",
    "        self.fc = nn.Linear(in_features=16*16*channel2, out_features=10)\n",
    "        \n",
    "    \n",
    "    def forward(self, x):\n",
    "        x = self.conv1(x)\n",
    "        x = F.relu(x)\n",
    "        x = self.conv2(x)\n",
    "        x = F.relu(x)\n",
    "        x = self.pool(x)\n",
    "        x = self.flatten(x)\n",
    "        x = self.fc(x)\n",
    "        return x"
   ]
  },
  {
   "cell_type": "markdown",
   "metadata": {},
   "source": []
  }
 ],
 "metadata": {
  "kernelspec": {
   "display_name": "entornoJupyter",
   "language": "python",
   "name": "python3"
  },
  "language_info": {
   "codemirror_mode": {
    "name": "ipython",
    "version": 3
   },
   "file_extension": ".py",
   "mimetype": "text/x-python",
   "name": "python",
   "nbconvert_exporter": "python",
   "pygments_lexer": "ipython3",
   "version": "3.12.3"
  }
 },
 "nbformat": 4,
 "nbformat_minor": 2
}
